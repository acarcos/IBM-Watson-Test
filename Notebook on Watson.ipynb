{
    "cells": [
        {
            "metadata": {
                "collapsed": true
            },
            "cell_type": "markdown",
            "source": "# My Jupyter Notebook on IBM Watson Studio"
        },
        {
            "metadata": {},
            "cell_type": "markdown",
            "source": "**Ana**\n\nResearcher/Data Scientist"
        },
        {
            "metadata": {},
            "cell_type": "markdown",
            "source": "*I am interested in Data Science since it is a very interesting tool for analysis and prediction of data. I am interested in building algorithms and help to understand how AI works.*"
        },
        {
            "metadata": {},
            "cell_type": "markdown",
            "source": "### Printing a basic command (;"
        },
        {
            "metadata": {},
            "cell_type": "code",
            "source": "print(\"Hello Universe\")",
            "execution_count": null,
            "outputs": []
        },
        {
            "metadata": {},
            "cell_type": "markdown",
            "source": "| Nebulas |  How they look | \n| --- | :---: |\n| [Pillars of Creation](https://www.nasa.gov/image-feature/the-pillars-of-creation)      | ![alt text](data:image/jpeg;base64,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 \"Pillars\")| \n| [Orion Nebula](https://www.nasa.gov/feature/goddard/2017/messier-42-the-orion-nebula) | <img src=https://scitechdaily.com/images/The-Orion-nebula-in-the-optical-by-CFHT.jpg width=\"220\">|   \n| [Bubble Nebula](https://hubblesite.org/contents/media/images/2016/13/3725-Image.html) | <img src=https://astrobackyard.com/wp-content/uploads/2021/09/bubble-nebula-astrobackyard.jpg width=\"220\">|    \n"
        },
        {
            "metadata": {},
            "cell_type": "code",
            "source": "",
            "execution_count": null,
            "outputs": []
        }
    ],
    "metadata": {
        "kernelspec": {
            "name": "python3",
            "display_name": "Python 3.9",
            "language": "python"
        },
        "language_info": {
            "name": "python",
            "version": "3.9.12",
            "mimetype": "text/x-python",
            "codemirror_mode": {
                "name": "ipython",
                "version": 3
            },
            "pygments_lexer": "ipython3",
            "nbconvert_exporter": "python",
            "file_extension": ".py"
        }
    },
    "nbformat": 4,
    "nbformat_minor": 1
}